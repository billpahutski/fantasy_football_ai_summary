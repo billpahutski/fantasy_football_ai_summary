{
 "cells": [
  {
   "cell_type": "markdown",
   "id": "cee4b641-fb14-48ff-a602-c98b5cc93c62",
   "metadata": {},
   "source": [
    "# AI to generate a a weekly summary about the past week's games."
   ]
  },
  {
   "cell_type": "markdown",
   "id": "49868537-0e64-4f5a-8fce-10244ad04a58",
   "metadata": {},
   "source": [
    "## 1.) Loading Packages"
   ]
  },
  {
   "cell_type": "code",
   "execution_count": null,
   "id": "b2c9f2ac-983d-49b2-a890-e8947c02058e",
   "metadata": {},
   "outputs": [],
   "source": [
    "import warnings\n",
    "warnings.filterwarnings('ignore')\n",
    "import numpy as np\n",
    "import pandas as pd\n",
    "from groq import Groq\n",
    "import datetime\n",
    "import time\n",
    "import nfl_data_py as nfl\n",
    "\n",
    "\n",
    "import smtplib\n",
    "from email.mime.multipart import MIMEMultipart\n",
    "from email.mime.text import MIMEText\n",
    "from email.mime.image import MIMEImage\n",
    "from IPython.display import display, Markdown\n",
    "\n",
    "from FantasyFootballAI_utils import (\n",
    "    weekly_winner_loser,\n",
    "    season_wins_func,\n",
    "    playoff_points,\n",
    "    total_points_func,\n",
    "    key_games_func,\n",
    "    cum_win_func,\n",
    "    top_games_func,\n",
    "    final_compiler,\n",
    "    rest_of_the_games_func,\n",
    "    format_email_content,\n",
    ")"
   ]
  },
  {
   "cell_type": "markdown",
   "id": "2cb21bff-47e6-4e0c-8439-07be3dbcf6c9",
   "metadata": {},
   "source": [
    "## 2.) Loading Data"
   ]
  },
  {
   "cell_type": "markdown",
   "id": "b931d431-e814-4265-9197-f84400211e79",
   "metadata": {},
   "source": [
    "### 2.AA) Defining Script Variables"
   ]
  },
  {
   "cell_type": "code",
   "execution_count": 2,
   "id": "a273ccbe-3a1c-490a-8114-91d027a51d77",
   "metadata": {},
   "outputs": [
    {
     "name": "stdout",
     "output_type": "stream",
     "text": [
      "18\n"
     ]
    }
   ],
   "source": [
    "# Hard coding Starting Variables\n",
    "years = [2024]\n",
    "today = datetime.datetime.today().date()\n",
    "opening_sun = datetime.datetime(2024, 9, 8).date()\n",
    "\n",
    "week = ( (today - opening_sun).days // 7 ) + 1\n",
    "week = 18 # Temp Manual assignment for testing\n",
    "print(week)"
   ]
  },
  {
   "cell_type": "markdown",
   "id": "9fc58a86-74ef-4029-a9c6-354f1bdcb6e4",
   "metadata": {},
   "source": [
    "### 2.A) Weekly Scores"
   ]
  },
  {
   "cell_type": "code",
   "execution_count": 3,
   "id": "2a869e84-af84-4a29-9ada-88b58a135db6",
   "metadata": {},
   "outputs": [],
   "source": [
    "schedule_cols = ['season', 'week', 'weekday', 'gametime', 'away_team', 'away_score', 'home_team', 'home_score',\n",
    "                'result', 'total', 'overtime', 'away_moneyline', 'home_moneyline', 'spread_line', 'away_spread_odds',\n",
    "                 'home_spread_odds', 'total_line', 'under_odds', 'over_odds', 'div_game', 'referee',\n",
    "                'away_coach', 'home_coach', 'referee']\n",
    "scores = nfl.import_schedules(years=years)[schedule_cols]"
   ]
  },
  {
   "cell_type": "markdown",
   "id": "4c3b5f70-eaa2-4e4e-b969-26d47f0903c3",
   "metadata": {},
   "source": [
    "### 2.B) Weekly Player Scores"
   ]
  },
  {
   "cell_type": "code",
   "execution_count": 4,
   "id": "21654a58-3556-4744-8f25-60af862ca988",
   "metadata": {},
   "outputs": [
    {
     "name": "stdout",
     "output_type": "stream",
     "text": [
      "Downcasting floats.\n"
     ]
    }
   ],
   "source": [
    "weekly_cols = ['player_id', 'player_display_name', 'position', 'recent_team', 'season', 'week', 'opponent_team', 'completions', 'attempts',\n",
    "              'passing_yards', 'passing_tds', 'interceptions', 'sacks', 'sack_yards', 'sack_fumbles', 'sack_fumbles_lost',\n",
    "              'passing_first_downs', 'passing_epa', 'passing_2pt_conversions', 'carries', 'rushing_yards', 'rushing_tds', \n",
    "               'rushing_fumbles', 'rushing_fumbles_lost', 'rushing_first_downs', 'rushing_epa', 'rushing_2pt_conversions',\n",
    "              'receptions', 'targets', 'receiving_yards', 'receiving_tds', 'receiving_fumbles', 'receiving_fumbles_lost',\n",
    "              'receiving_first_downs', 'receiving_epa', 'receiving_2pt_conversions',\n",
    "              'fantasy_points', 'fantasy_points_ppr']\n",
    "weekly_player = nfl.import_weekly_data(years=years,  downcast=True)\n",
    "weekly_player = weekly_player[weekly_player.week == week]"
   ]
  },
  {
   "cell_type": "markdown",
   "id": "ec878b5a-6a56-4f1d-9f88-dec080e22220",
   "metadata": {},
   "source": [
    "### 2.C) Season Player Scores"
   ]
  },
  {
   "cell_type": "code",
   "execution_count": 5,
   "id": "852b1ac8-8c8e-4144-94ac-f6d3be625081",
   "metadata": {},
   "outputs": [],
   "source": [
    "season_cols = ['player_id', 'season', 'completions', 'attempts',\n",
    "              'passing_yards', 'passing_tds', 'interceptions', 'sacks', 'sack_yards', 'sack_fumbles', 'sack_fumbles_lost',\n",
    "              'passing_first_downs', 'passing_epa', 'passing_2pt_conversions', 'carries', 'rushing_yards', 'rushing_tds', \n",
    "               'rushing_fumbles', 'rushing_fumbles_lost', 'rushing_first_downs', 'rushing_epa', 'rushing_2pt_conversions',\n",
    "              'receptions', 'targets', 'receiving_yards', 'receiving_tds', 'receiving_fumbles', 'receiving_fumbles_lost',\n",
    "              'receiving_first_downs', 'receiving_epa', 'receiving_2pt_conversions',\n",
    "              'fantasy_points', 'fantasy_points_ppr']\n",
    "season_player = nfl.import_seasonal_data(years=years)[season_cols]"
   ]
  },
  {
   "cell_type": "markdown",
   "id": "e04b6482-2543-4ee6-a03f-1c0335547b02",
   "metadata": {},
   "source": [
    "## 3.) Organizing Team-Level Data"
   ]
  },
  {
   "cell_type": "markdown",
   "id": "57880ab7-a3ca-4f4b-b64d-295c41d2e8f9",
   "metadata": {},
   "source": [
    "### 3.A) Getting Team Season Records"
   ]
  },
  {
   "cell_type": "code",
   "execution_count": 6,
   "id": "70d3549f",
   "metadata": {},
   "outputs": [],
   "source": [
    "# Getting the Winner and Loser of each game\n",
    "scores2 = weekly_winner_loser(scores, week, regular_season_max_week=18)"
   ]
  },
  {
   "cell_type": "code",
   "execution_count": 7,
   "id": "61426d50",
   "metadata": {},
   "outputs": [],
   "source": [
    "# Calculating all season wins and losses by team\n",
    "season_wins = season_wins_func(scores2)"
   ]
  },
  {
   "cell_type": "code",
   "execution_count": 8,
   "id": "4f1a1b90",
   "metadata": {},
   "outputs": [],
   "source": [
    "# Calculating playoff points\n",
    "season_wins = playoff_points(scores, season_wins)"
   ]
  },
  {
   "cell_type": "code",
   "execution_count": 9,
   "id": "52e2e22c-c0f1-4fec-a5d3-14b733c3edb0",
   "metadata": {},
   "outputs": [
    {
     "data": {
      "text/html": [
       "<div>\n",
       "<style scoped>\n",
       "    .dataframe tbody tr th:only-of-type {\n",
       "        vertical-align: middle;\n",
       "    }\n",
       "\n",
       "    .dataframe tbody tr th {\n",
       "        vertical-align: top;\n",
       "    }\n",
       "\n",
       "    .dataframe thead th {\n",
       "        text-align: right;\n",
       "    }\n",
       "</style>\n",
       "<table border=\"1\" class=\"dataframe\">\n",
       "  <thead>\n",
       "    <tr style=\"text-align: right;\">\n",
       "      <th></th>\n",
       "      <th>Player</th>\n",
       "      <th>team</th>\n",
       "    </tr>\n",
       "  </thead>\n",
       "  <tbody>\n",
       "    <tr>\n",
       "      <th>0</th>\n",
       "      <td>Bill</td>\n",
       "      <td>HOU</td>\n",
       "    </tr>\n",
       "    <tr>\n",
       "      <th>1</th>\n",
       "      <td>Bill</td>\n",
       "      <td>JAX</td>\n",
       "    </tr>\n",
       "    <tr>\n",
       "      <th>2</th>\n",
       "      <td>Bill</td>\n",
       "      <td>DAL</td>\n",
       "    </tr>\n",
       "    <tr>\n",
       "      <th>3</th>\n",
       "      <td>Bill</td>\n",
       "      <td>NYJ</td>\n",
       "    </tr>\n",
       "    <tr>\n",
       "      <th>4</th>\n",
       "      <td>Bill</td>\n",
       "      <td>KC</td>\n",
       "    </tr>\n",
       "  </tbody>\n",
       "</table>\n",
       "</div>"
      ],
      "text/plain": [
       "  Player team\n",
       "0   Bill  HOU\n",
       "1   Bill  JAX\n",
       "2   Bill  DAL\n",
       "3   Bill  NYJ\n",
       "4   Bill   KC"
      ]
     },
     "execution_count": 9,
     "metadata": {},
     "output_type": "execute_result"
    }
   ],
   "source": [
    "# Mapping to Bill/Mom/Unpicked\n",
    "fantasy_team_dict = {\n",
    "    'Bill': ['HOU', 'JAX', 'DAL', 'NYJ', 'KC', 'PHI', 'ATL', 'CHI', 'CLE', 'DET'],\n",
    "    'Mom': ['BAL', 'GB', 'LAC', 'BUF', 'CIN', 'IND', 'MIA', 'LA', 'TB', 'SF'],\n",
    "    'Unpicked': ['PIT', 'ARI', 'TEN', 'NE', 'CAR', 'MIN', 'LV', 'DEN', 'WAS', 'NO', 'NYG', 'SEA', ]\n",
    "}\n",
    "\n",
    "fantasy_team_df = pd.DataFrame(\n",
    "    [(player, team) for player, teams in fantasy_team_dict.items() for team in teams],\n",
    "    columns=['Player', 'team']\n",
    ")\n",
    "\n",
    "fantasy_team_df.head()"
   ]
  },
  {
   "cell_type": "code",
   "execution_count": 10,
   "id": "91ecdac3-304c-4125-a6ae-423652423195",
   "metadata": {},
   "outputs": [
    {
     "data": {
      "text/html": [
       "<div>\n",
       "<style scoped>\n",
       "    .dataframe tbody tr th:only-of-type {\n",
       "        vertical-align: middle;\n",
       "    }\n",
       "\n",
       "    .dataframe tbody tr th {\n",
       "        vertical-align: top;\n",
       "    }\n",
       "\n",
       "    .dataframe thead th {\n",
       "        text-align: right;\n",
       "    }\n",
       "</style>\n",
       "<table border=\"1\" class=\"dataframe\">\n",
       "  <thead>\n",
       "    <tr style=\"text-align: right;\">\n",
       "      <th></th>\n",
       "      <th>Player</th>\n",
       "      <th>total_points</th>\n",
       "    </tr>\n",
       "  </thead>\n",
       "  <tbody>\n",
       "    <tr>\n",
       "      <th>0</th>\n",
       "      <td>Bill</td>\n",
       "      <td>134</td>\n",
       "    </tr>\n",
       "    <tr>\n",
       "      <th>1</th>\n",
       "      <td>Mom</td>\n",
       "      <td>134</td>\n",
       "    </tr>\n",
       "    <tr>\n",
       "      <th>2</th>\n",
       "      <td>Unpicked</td>\n",
       "      <td>108</td>\n",
       "    </tr>\n",
       "  </tbody>\n",
       "</table>\n",
       "</div>"
      ],
      "text/plain": [
       "     Player  total_points\n",
       "0      Bill           134\n",
       "1       Mom           134\n",
       "2  Unpicked           108"
      ]
     },
     "execution_count": 10,
     "metadata": {},
     "output_type": "execute_result"
    }
   ],
   "source": [
    "# Calculating Fantasy Team Points\n",
    "fantasy_wins = total_points_func(fantasy_team_df, season_wins)\n",
    "fantasy_wins"
   ]
  },
  {
   "cell_type": "code",
   "execution_count": null,
   "id": "c13922e7-a5f6-4c4d-8a97-8945e7710874",
   "metadata": {},
   "outputs": [],
   "source": []
  },
  {
   "cell_type": "markdown",
   "id": "29e22310-3d05-4942-9780-2afa72feaf7e",
   "metadata": {},
   "source": [
    "### 3.B) Looking at Biggest Upsets/Matchups"
   ]
  },
  {
   "cell_type": "code",
   "execution_count": 11,
   "id": "a2f729ee",
   "metadata": {},
   "outputs": [],
   "source": [
    "# Getting the key games: Upsets and head-to-heads\n",
    "scores_week, head_to_heads, upsets = key_games_func(scores, week, fantasy_team_df)"
   ]
  },
  {
   "cell_type": "markdown",
   "id": "59c0ae04-b825-4068-93c1-ce14c7587ea5",
   "metadata": {},
   "source": [
    "### 3.C) Weekly Graphic"
   ]
  },
  {
   "cell_type": "code",
   "execution_count": 12,
   "id": "cc36c817-4746-486a-bfcf-953747dfba38",
   "metadata": {},
   "outputs": [
    {
     "data": {
      "image/png": "[encoded data removed]",
      "text/plain": [
       "<Figure size 1500x1000 with 1 Axes>"
      ]
     },
     "metadata": {},
     "output_type": "display_data"
    }
   ],
   "source": [
    "# Getting weekly Wins by team\n",
    "weekly_wins = scores2.merge(fantasy_team_df, how='inner', left_on='winner', right_on='team')\n",
    "\n",
    "plt, weekly_wins_filename = cum_win_func(weekly_wins, )\n",
    "# Save the plot\n",
    "weekly_wins_filename = f'Weekly_Wins_Week_{weekly_wins.week.max()}.png'\n",
    "plt.savefig(fname=weekly_wins_filename)\n",
    "plt.show()"
   ]
  },
  {
   "cell_type": "markdown",
   "id": "bfc45567-c9f1-45a5-a64c-266321a6cfa8",
   "metadata": {},
   "source": [
    "## 4.) Formatting data and Designing AI Prompt"
   ]
  },
  {
   "cell_type": "markdown",
   "id": "24bd53b0-1029-4cf6-94d6-c442b9149c1b",
   "metadata": {},
   "source": [
    "### 4.A) Connecting to Llama3"
   ]
  },
  {
   "cell_type": "code",
   "execution_count": null,
   "id": "1af18c6c-deba-407b-b05f-e500e61b9e42",
   "metadata": {},
   "outputs": [],
   "source": []
  },
  {
   "cell_type": "code",
   "execution_count": null,
   "id": "bb1aac55",
   "metadata": {},
   "outputs": [],
   "source": [
    "# My Groq GPT AI Key\n",
    "client = Groq(\n",
    "    api_key=\"api_key_here\"\n",
    ")"
   ]
  },
  {
   "cell_type": "markdown",
   "id": "b70151d9-b81e-4ff0-be83-2bfd2f214497",
   "metadata": {},
   "source": [
    "### 4.B) Desgining Custom Lists of Input"
   ]
  },
  {
   "cell_type": "code",
   "execution_count": 14,
   "id": "19a5e3db-4ad6-4576-8dfc-bc78cdcff5d4",
   "metadata": {},
   "outputs": [],
   "source": [
    "# Long Team Names\n",
    "team_longname_dict = {'HOU': 'Houston Texans', 'JAX': 'Jacksonville Jaguars', 'DAL': 'Dallas Cowboys', 'NYJ': 'New York Jets',\n",
    "                      'KC': 'Kansas City Chiefs', 'PHI': 'Philadelphia Eagles', 'ATL': 'Atlanta Falcons', 'CHI': 'Chicago Bears',\n",
    "                      'DET': 'Detroit Lions', 'BAL': 'Baltimore Ravens', 'GB': 'Green Bay Packers', 'LAC': 'Los Angeles Chargers',\n",
    "                      'BUF': 'Buffalo Bills', 'CIN': 'Cincinnati Bengals', 'IND': 'Indianapolis Colts', 'MIA': 'Miami Dolphins',\n",
    "                      'CLE': 'Cleveland Browns',\n",
    "                      'LA': 'Los Angeles Rams', 'TB': 'Tampa Bay Buccaneers', 'SF': 'San Francisco 49ers',\n",
    "                      'PIT': 'Shitsburg Steelers', 'ARI': 'Arizona Cardinals', 'TEN': 'Tennessee Titans', \n",
    "                      'NE': 'New England Patriots', 'CAR': 'Carolina Panthers', 'MIN': 'Minnesota Vikings', 'LV': 'Las Vegas Raiders',\n",
    "                      'DEN': 'Denver Broncos', 'WAS': 'Washington Commanders', 'NO': 'New Orleans Saints', \n",
    "                      'NYG': 'New York Giants', 'SEA': 'Seattle Seahawks'\n",
    "                     }\n",
    "\n",
    "fantasy_team_df2 = fantasy_team_df.merge(pd.DataFrame(list(team_longname_dict.items()), columns=['team', 'long_name']),\n",
    "                                        how='inner', on='team')"
   ]
  },
  {
   "cell_type": "code",
   "execution_count": 15,
   "id": "f612ec49-ae4f-4f0b-b6a8-fca940758f1b",
   "metadata": {},
   "outputs": [],
   "source": [
    "# Strings for the important Games:\n",
    "important_games = pd.concat([head_to_heads, upsets, scores_week], ignore_index=True, axis=0).drop_duplicates()\n",
    "\n",
    "top_games, rest_of_the_games = top_games_func(scores_week, important_games)"
   ]
  },
  {
   "cell_type": "code",
   "execution_count": 16,
   "id": "64aec166-9e3f-46f5-95e3-166b2b9ed524",
   "metadata": {},
   "outputs": [],
   "source": [
    "# Dictionary of wins per person\n",
    "wins_dict = {\n",
    "    'bill_wins': int(scores_week.bill_win.sum()),\n",
    "    'mom_wins': int(scores_week.mom_win.sum()),\n",
    "    'bill_hth_wins': int(scores_week[(scores_week.mom_team == 1) & (scores_week.bill_team == 1) & (scores_week.bill_win == 1)].bill_win.sum()),\n",
    "    'mom_hth_wins': int(scores_week[(scores_week.mom_team == 1) & (scores_week.bill_team == 1) & (scores_week.mom_win == 1)].mom_win.sum()),\n",
    "    'total_hth_games': int(scores_week[(scores_week.mom_team == 1) & (scores_week.bill_team == 1) & (scores_week.bill_win == 1)].bill_win.sum()) +\n",
    "                       int(scores_week[(scores_week.mom_team == 1) & (scores_week.bill_team == 1) & (scores_week.mom_win == 1)].mom_win.sum()),\n",
    "    'bill_max_wins': len(scores_week[scores_week.bill_team == 1]),\n",
    "    'mom_max_wins': len(scores_week[scores_week.mom_team == 1]),\n",
    "    'bill_season_wins': int(fantasy_wins[fantasy_wins.Player == 'Bill'].total_points.values[0]),\n",
    "    'mom_season_wins': int(fantasy_wins[fantasy_wins.Player == 'Mom'].total_points.values[0]),\n",
    "}"
   ]
  },
  {
   "cell_type": "code",
   "execution_count": null,
   "id": "c660672d",
   "metadata": {},
   "outputs": [],
   "source": []
  },
  {
   "cell_type": "code",
   "execution_count": 17,
   "id": "2f292408-a3af-4f11-8f19-c6a17d2daffa",
   "metadata": {},
   "outputs": [
    {
     "name": "stdout",
     "output_type": "stream",
     "text": [
      "Bill's New York Jets defeated Mom's Miami Dolphins by a score of 32.0 to 20.0. \n",
      "\n",
      "\n",
      "The New York Jets Quarterback, Aaron Rodgers, threw for 274.0 yards, with 4 touchdowns and 1.0 interceptions, at 7.61 yards per attempt and a completion percentage of 63.89%. \n",
      "\n",
      "The Miami Dolphins Quarterback, Tyler Huntley, threw for 227.0 yards, with 1 touchdowns and 2.0 interceptions, at 5.54 yards per attempt and a completion percentage of 60.98%. \n",
      "The leading rusher for New York Jets was Breece Hall, who carried 12 times for 57 yards (4.75 yards per attempt) and 0 touchdowns.\n",
      "\n",
      "The leading receiver for New York Jets was Davante Adams, who had 6 receptions for 88 yards and 1 touchdowns.\n",
      "Additionally, Tyler Conklin had 1 receiving touchdowns for The New York Jets.\n",
      "Allen Lazard had 1 receiving touchdowns for The New York Jets.\n",
      "Breece Hall had 1 receiving touchdowns for The New York Jets.\n",
      "\n",
      "The leading rusher for Miami Dolphins was Devon Achane, who carried 11 times for 121 yards (11.0 yards per attempt) and 1 touchdowns.\n",
      "\n",
      "The leading receiver for Miami Dolphins was Jonnu Smith, who had 9 receptions for 56 yards and 1 touchdowns.\n",
      "\n"
     ]
    }
   ],
   "source": [
    "# Testing the final compiler\n",
    "print(final_compiler(top_games.iloc[1, :], fantasy_team_df2, team_longname_dict, weekly_player))"
   ]
  },
  {
   "cell_type": "markdown",
   "id": "2ef4c14a-e231-4be6-aaf5-0c262642fc4d",
   "metadata": {},
   "source": [
    "### 4.D) Writing the Prompt - One Game at a time"
   ]
  },
  {
   "cell_type": "code",
   "execution_count": 18,
   "id": "b3b401d1-3dc2-446a-a740-70e7b8f702df",
   "metadata": {},
   "outputs": [],
   "source": [
    "main_messages = [ {\"role\": \"system\", \"content\": \n",
    "          \"You are a zany sports journalist reporting on the football games this weekend\"} ]\n",
    "\n",
    "message = f\"\"\"\n",
    "Bill and Mom are in a special type of a Fantasy Football league. Instead of drafting players, they draft entire teams. \\\n",
    "For each win their teams get in the regular season, they get a point. \n",
    "\n",
    "The Football Teams are divided into 3 Squads:\n",
    "\n",
    "Bill's Squad, comprised of: {fantasy_team_df2[fantasy_team_df2.Player == 'Bill'].long_name.values}\n",
    "Mom's Squad, comprised of: {fantasy_team_df2[fantasy_team_df2.Player == 'Mom'].long_name.values}\n",
    "Unpicked Squad, comprised of: {fantasy_team_df2[fantasy_team_df2.Player == 'Unpicked'].long_name.values}\n",
    "\n",
    "Write the first paragraph of an aritlce summarizing this weekend's football games. \\\n",
    "This detailed paragraph should focus on the following stats:\n",
    "\n",
    "Bill Wins: {wins_dict['bill_wins']}\n",
    "Mom Wins: {wins_dict['mom_wins']}\n",
    "\n",
    "Bill and Mom played {wins_dict['total_hth_games']} head-to-head games. Bill won {wins_dict['bill_hth_wins']} of those, and Mom won {wins_dict['mom_hth_wins']} of those.\n",
    "\n",
    "Bill won {wins_dict['bill_wins']} out of a total of a possible {wins_dict['bill_max_wins']} this week, \\\n",
    "while mom won {wins_dict['mom_wins']} out of a total of a possible {wins_dict['mom_max_wins']} this week.\n",
    "This doesn't mean that Bill has a {wins_dict['bill_wins']}-{wins_dict['bill_max_wins']} record. It just means he had a total of {wins_dict['bill_max_wins']} wins available\\\n",
    "and only got {wins_dict['bill_wins']}.\n",
    "\n",
    "Bill has {wins_dict['bill_season_wins']} wins in total this season and Mom has {wins_dict['mom_season_wins']} wins in total this season.\n",
    "Last week Bill had {wins_dict['bill_season_wins'] - wins_dict['bill_wins']}, while Mom had {wins_dict['mom_season_wins'] - wins_dict['mom_wins']}. Make sure to call this out.\n",
    "\n",
    "Embellish where possible and make fun of the person who has fewer wins wherever possible. Be very funny. \\\n",
    "Don't start the article with \"well, well, well\" or \"Fantasy Football Frenzy\". Be more creative than that. \\\n",
    "Start with a unique and specific title to this week of football outcomes.\n",
    "Include a title that is preceded by \"TITLE: \"\n",
    "\"\"\"\n",
    "main_messages.append(\n",
    "        {\"role\": \"user\", \"content\": message},\n",
    "    )\n",
    "\n",
    "chat = client.chat.completions.create(\n",
    "        model=\"llama-3.3-70b-versatile\", messages=main_messages\n",
    "    )\n",
    "reply_intro = chat.choices[0].message.content"
   ]
  },
  {
   "cell_type": "code",
   "execution_count": 19,
   "id": "514e0871-60da-4652-9ffe-7d7766f2cfef",
   "metadata": {},
   "outputs": [],
   "source": [
    "# Getting the game summaries of the top games\n",
    "game_summaries = []\n",
    "\n",
    "for i in range(3):\n",
    "    main_messages2 = main_messages.copy()\n",
    "\n",
    "    message = f\"\"\"\n",
    "    Now, summarize this game:\n",
    "    {final_compiler(top_games.iloc[i, :], fantasy_team_df2, team_longname_dict, weekly_player)}\n",
    "    Embellish it to make it exciting.\n",
    "    Don't talk about how this affects the standings between Bill and Mom.\n",
    "    \"\"\"\n",
    "    \n",
    "    \n",
    "    \n",
    "    main_messages2.append(\n",
    "            {\"role\": \"user\", \"content\": message},\n",
    "        )\n",
    "    \n",
    "    chat = client.chat.completions.create(\n",
    "            model=\"llama-3.3-70b-versatile\", messages=main_messages2\n",
    "        )\n",
    "    reply_game = chat.choices[0].message.content\n",
    "    game_summaries.append(reply_game)\n",
    "    time.sleep(10)"
   ]
  },
  {
   "cell_type": "code",
   "execution_count": 20,
   "id": "fa85cdc8-8d94-40ca-8c3f-40398fe9ec69",
   "metadata": {},
   "outputs": [],
   "source": [
    "# The Rest of the Results\n",
    "message = f\"\"\"\n",
    "    Finally, wrap up this article by mentioning the rest of the results:\n",
    "    {rest_of_the_games_func(rest_of_the_games, fantasy_team_df2, team_longname_dict)}.\n",
    "    Only give me a quick run through of the rest of these games, including the scores and who's squad they're on. \n",
    "    Separate each game with a new line.\n",
    "    Start with \"Here's what else happened across the league:\"\n",
    "    \"\"\"\n",
    "\n",
    "main_messages.append(\n",
    "            {\"role\": \"user\", \"content\": message},\n",
    "        )\n",
    "    \n",
    "chat = client.chat.completions.create(\n",
    "        model=\"llama-3.3-70b-versatile\", messages=main_messages\n",
    "    )\n",
    "rest_of_games_recap = chat.choices[0].message.content\n",
    "\n",
    "rest_of_games_recap += \"\\n \\n\""
   ]
  },
  {
   "cell_type": "code",
   "execution_count": 21,
   "id": "9cfcd037-12e9-4b9f-858b-249fc40b3866",
   "metadata": {},
   "outputs": [],
   "source": [
    "final_article = reply_intro\n",
    "final_article += \"\\n \\nGAME SUMMARIES: \\n\"\n",
    "\n",
    "for i in range(3):\n",
    "    final_article += \"\\n\" + \"\\n\" + f\"GAME {i+1}:\" + \"\\n\" + game_summaries[i]\n",
    "\n",
    "final_article += \"\\n \\n\" + rest_of_games_recap"
   ]
  },
  {
   "cell_type": "markdown",
   "id": "d36da82a-867d-45d1-a01b-a3c8d58c6dfe",
   "metadata": {},
   "source": [
    "## 6.) Sending Email"
   ]
  },
  {
   "cell_type": "markdown",
   "id": "7aa77fa9-3b37-4f1c-bb47-6324fb951aca",
   "metadata": {},
   "source": [
    "### 6.A) Formatting the reply"
   ]
  },
  {
   "cell_type": "code",
   "execution_count": 22,
   "id": "34ce6bb4-6004-4b14-be54-579989bbf22e",
   "metadata": {},
   "outputs": [],
   "source": [
    "# Bolding the proper words\n",
    "final_article2 = final_article\n",
    "words_to_bold = weekly_player.player_display_name.values\n",
    "for word in words_to_bold:\n",
    "    final_article2 = final_article2.replace(word, f\"<b>{word}</b>\")\n",
    "\n",
    "# Preserving the Spacing\n",
    "final_article2 = final_article2.replace(\"\\n\", \"<br>\")\n",
    "\n",
    "# Removing the word \"Title\"\n",
    "final_article2 = final_article2.replace('TITLE: ', '')"
   ]
  },
  {
   "cell_type": "code",
   "execution_count": 23,
   "id": "da78e988-4b7b-419d-8087-03e1d6740588",
   "metadata": {},
   "outputs": [],
   "source": [
    "# Adding an asterisk\n",
    "final_article2 += \"\"\"\n",
    "\n",
    "\n",
    "<i>Thank you for reading this completely AI-generated (except this part, which Bil wrote) and fully automated article. \\\n",
    "If this is your first time reading, welcome! Here's a quick summary on what this is:\n",
    "\n",
    "Bill and Mom are in an annual Fantasy Football competition, where they pick teams instead of players. For each win one of their teams \\\n",
    "gets, they get one point. Pretty simple. At the end of the year, whoever has the most points wins!\n",
    "\n",
    "What you've just read was an AI-generated article created by Bill. He scraped the NFL data, loaded it, transformed it, formatted it, \\\n",
    "and fed it into an AI with custom prompting (easier said than done). He then automated the script so that it is sent out to this \\\n",
    "distribution list every Tuesday at 10:00 AM PST with literally no human involvement. \n",
    "\n",
    "And yes. That's very cool. </i> \n",
    "\"\"\""
   ]
  },
  {
   "cell_type": "code",
   "execution_count": 24,
   "id": "badb6621-7245-4609-8b7c-47e33de9fcd8",
   "metadata": {},
   "outputs": [],
   "source": [
    "# Format the content dynamically\n",
    "formatted_message = format_email_content(final_article2)"
   ]
  },
  {
   "cell_type": "code",
   "execution_count": 25,
   "id": "a5c9bf4e-faff-4549-a11a-5c66be09d7d4",
   "metadata": {},
   "outputs": [
    {
     "data": {
      "text/markdown": [
       "<p style=\"font-size: 24px;\">Gridiron Gridlock: Bill and Mom Locked in a Ferocious Fight for Fantasy Football Supremacy</p><br><br>In a weekend that will be etched in the annals of fantasy football history as one of the most electrifying and unpredictable, Bill and Mom found themselves deadlocked in a 5-5 stalemate, with each racking up an impressive five wins to keep their squads firmly entrenched in the running. The head-to-head matchups between the two fantasy football foes were nothing short of thrilling, with Bill emerging victorious in two of the four contests and Mom snagging the remaining two - because, let's be real, someone's got to keep Bill's ego in check. But here's the real kicker: both Bill and Mom had a total of 10 wins up for grabs, and they each managed to snag exactly half of those, leaving the rest to wither away like a Browns fan's hopes of a championship. And if you thought things were getting boring, think again - Bill and Mom are now tied for the season with a whopping 134 wins apiece, a staggering five-win improvement over last week's tally of 129, which, might I add, was a pretty pathetic showing from both of these fantasy football \"powerhouses.\" One can only imagine the trash talk that's been flying back and forth between these two, with Bill probably saying something like, \"Hey, Mom, I've got a whole squad of Cowboys, and they're all lassoing wins like it's their job!\" And Mom retorting with, \"Oh yeah, Bill, but my Ravens are flying high, and they're not about to get knocked out of the sky by your bunch of Texans!\" Okay, maybe that's not exactly how the conversation went, but one thing's for sure - with these two locked in a fierce battle for fantasy football dominance, things are about to get really, really interesting.<br> <br>GAME SUMMARIES: <br><br><br>GAME 1:<br>\"Gridiron Gauntlet: The Unpredictable Upswings of Week's End\"<br><br>In a shocking turn of events, Bill's Chicago Bears pulled off a stunning upset against Mom's heavily favored Green Bay Packers, with a nail-biting 24-22 victory that left the gridiron gasping for air. The Packers, bolstered by a 10-point advantage, were expected to steamroll their way to an easy win, but the Bears had other plans. Like a swarm of angry bees, they descended upon the Packers, determined to take down the giants. And take them down they did, in a thrilling display of football finesse that will be etched in the memories of fans for weeks to come.<br><br>At the heart of the Bears' onslaught was their fearless quarterback, <b>Caleb Williams</b>, who threw for 148 yards, including a dazzling touchdown, while maintaining a pristine record of zero interceptions. His Packers counterpart, <b>Malik Willis</b>, put up a valiant effort, tossing for 136 yards, but ultimately fell short of the mark. The Packers' ground game, led by the indefatigable <b>Emanuel Wilson</b>, who racked up 73 yards and a touchdown on 14 carries, threatened to overwhelm the Bears, but they stood firm, like a fortress of gridiron grit.<br><br>Meanwhile, the Bears' <b>D'Andre Swift</b> proved to be a force to be reckoned with, pounding out 65 yards on 20 carries, including a crucial touchdown that left the Packers reeling. And then, there was the spectacular <b>D.J. Moore</b>, who hauled in an astonishing 9 receptions for 86 yards, including a touchdown that will be replayed on highlight reels for eternity. The Bears' triumphant cries echoed through the stadium, a deafening declaration of their unwavering determination to take down their opponents, no matter the odds. In the end, it was a David-vs-Goliath battle for the ages, with the Bears emerging victorious, their paws raised in triumph, as the Packers slunk away, vanquished and bewildered.<br><br>GAME 2:<br>Gridiron Glory: Rodgers Runs Wild as Jets Soar Over Dolphins<br><br>In a thrilling showdown that left fans on the edge of their seats, Bill's New York Jets took to the skies and delivered a resounding 32-20 victory over Mom's Miami Dolphins. The mastermind behind this aerial assault was none other than the incomparable <b>Aaron Rodgers</b>, who threw for a dazzling 274 yards, unleashing a quartet of touchdowns and just one interception. The Dolphins' defense was left scrambling to keep up with Rodgers' lightning-quick reflexes and pinpoint accuracy, as he torched them for 7.61 yards per attempt and a scorching 63.89% completion rate.<br><br>Meanwhile, the Dolphins' <b>Tyler Huntley</b> put up a valiant effort, but his stats paled in comparison to Rodgers' fireworks display. Huntley managed a respectable 227 yards, but his two interceptions and relatively modest 5.54 yards per attempt left the Dolphins' offense sputtering. The usually-reliable Huntley was pressured relentlessly by the Jets' defense, which seemed to be one step ahead of him all game long.<br><br>On the ground, the Jets' <b>Breece Hall</b> pounded out a workmanlike 57 yards on 12 carries, setting the tone for a balanced Jets attack. But it was the Jets' receiving corps that truly stole the show, with <b>Davante Adams</b> hauling in six passes for 88 yards and a touchdown. The dynamic trio of <b>Tyler Conklin</b>, <b>Allen Lazard</b>, and <b>Breece Hall</b> all chipped in with touchdown catches of their own, leaving the Dolphins' secondary grasping at air.<br><br>In a rare bright spot for the Dolphins, rookie sensation <b>Devon Achane</b> exploded for 121 yards on just 11 carries, including a electrifying touchdown run that left the Jets' defense reeling. <b>Jonnu Smith</b> proved to be a reliable target for Huntley, snagging nine passes for 56 yards and a touchdown, but it was too little, too late for the beleaguered Dolphins. As the final whistle sounded, the Jets were left basking in the glory of their hard-fought 12-point triumph, while the Dolphins slunk away, already looking ahead to their next matchup.<br><br>GAME 3:<br>Gridiron Gauntlet: Colts Outgun Jaguars in Thrilling Showdown<br><br>In a heart-stopping, action-packed clash, Mom's Indianapolis Colts edged out Bill's Jacksonville Jaguars by a hair's breadth, 26-23. The Colts' signal-caller, <b>Joe Flacco</b>, orchestrated a masterful performance, throwing for 264 yards and a touchdown, while keeping his cool under pressure with zero interceptions. His counterpart, <b>Mac Jones</b>, put up a valiant effort, hurling for 225 yards and a touchdown, but a lone interception proved to be a costly mistake.<br><br>The real star of the show, however, was the Colts' powerhouse running back, <b>Jonathan Taylor</b>, who bulldozed his way to 177 yards on 34 carries, leaving a trail of would-be tacklers in his wake. His impressive 5.21 yards per attempt average left the Jaguars' defense reeling, and his touchdown sealed the deal for the Colts. On the receiving end, <b>Josh Downs</b> hauled in 10 receptions for 94 yards, a workhorse effort that kept the Colts' offense humming. Meanwhile, <b>Alec Pierce</b> snatched a crucial touchdown pass, sending the crowd into raptures.<br><br>On the other side of the ball, the Jaguars' <b>Tank Bigsby</b> and <b>Parker Washington</b> led the charge, with Bigsby rumbling for 39 yards and a touchdown, and Washington snagging a scoring pass. <b>Brian Thomas</b>, the Jaguars' top receiver, torched the Colts' secondary for 103 yards on seven receptions, but it wasn't enough to overcome the Colts' balanced attack. As the final whistle blew, the Colts celebrated a hard-fought victory, while the Jaguars licked their wounds, already looking ahead to the next showdown. The question on everyone's lips: can Bill's squad bounce back from this nail-biting defeat? Only time will tell.<br> <br>Gridiron Glory: Bill and Mom's Squads Slug it Out in a Weekend of Football Frenzy<br><br>In a weekend that will go down in fantasy football history as one of the most epic battles of wits, Bill and Mom's squads clashed in a series of head-to-head matchups that left fans on the edge of their seats. With a staggering 5 wins each, it's clear that these two fantasy football powerhouses are evenly matched. But let's dive deeper into the numbers, shall we? Bill won 5 out of a possible 10 games, while Mom also won 5 out of 10 - and with 4 head-to-head games between them, they split the victories right down the middle, with 2 wins apiece. This brings their total season wins to a whopping 134 each, a significant jump from last week's 129. It's worth noting that Bill didn't exactly \"win\" the weekend, per se - but hey, when you're tied with your opponent, you can't really claim bragging rights, can you, Bill?<br><br>Here's what else happened across the league:<br>Mom's Baltimore Ravens trounced Bill's Cleveland Browns 35.0 to 10.0.<br> <br>Mom's Tampa Bay Buccaneers took down Unpicked's New Orleans Saints 27.0 to 19.0.<br> <br>Unpicked's Denver Broncos annihilated Bill's Kansas City Chiefs 38.0 to 0.0.<br> <br>Unpicked's Carolina Panthers pulled off a stunning upset over Bill's Atlanta Falcons 44.0 to 38.0.<br> <br>Unpicked's Seattle Seahawks edged out Mom's Los Angeles Rams 30.0 to 25.0.<br> <br>Mom's Los Angeles Chargers cruised past Unpicked's Las Vegas Raiders 34.0 to 20.0.<br> <br>Unpicked's Washington Commanders squeaked out a win over Bill's Dallas Cowboys 23.0 to 19.0.<br> <br>Unpicked's Arizona Cardinals demolished Mom's San Francisco 49ers 47.0 to 24.0.<br> <br>Unpicked's New England Patriots defeated Mom's Buffalo Bills 23.0 to 16.0.<br> <br>Bill's Philadelphia Eagles eked out a win over Unpicked's New York Giants 20.0 to 13.0.<br> <br>Mom's Cincinnati Bengals narrowly defeated Unpicked's Shitsburg Steelers 19.0 to 17.0.<br> <br>Bill's Detroit Lions crushed Unpicked's Minnesota Vikings 31.0 to 9.0.<br> <br>\n",
       "\n",
       "\n",
       "<i>Thank you for reading this completely AI-generated (except this part, which Bil wrote) and fully automated article. If this is your first time reading, welcome! Here's a quick summary on what this is:\n",
       "\n",
       "Bill and Mom are in an annual Fantasy Football competition, where they pick teams instead of players. For each win one of their teams gets, they get one point. Pretty simple. At the end of the year, whoever has the most points wins!\n",
       "\n",
       "What you've just read was an AI-generated article created by Bill. He scraped the NFL data, loaded it, transformed it, formatted it, and fed it into an AI with custom prompting (easier said than done). He then automated the script so that it is sent out to this distribution list every Tuesday at 10:00 AM PST with literally no human involvement. \n",
       "\n",
       "And yes. That's very cool. </i> \n"
      ],
      "text/plain": [
       "<IPython.core.display.Markdown object>"
      ]
     },
     "metadata": {},
     "output_type": "display_data"
    }
   ],
   "source": [
    "\n",
    "display(Markdown(formatted_message))"
   ]
  },
  {
   "cell_type": "code",
   "execution_count": null,
   "id": "62a1ae61-d283-4a03-be8f-5372f30a1bce",
   "metadata": {},
   "outputs": [],
   "source": []
  },
  {
   "cell_type": "code",
   "execution_count": null,
   "id": "320339ca-515e-45ab-98bd-7f738bdc511d",
   "metadata": {},
   "outputs": [],
   "source": []
  },
  {
   "cell_type": "markdown",
   "id": "96741a2e-fc3e-42cb-8f13-32b376518631",
   "metadata": {},
   "source": [
    "### 6.B) Email Sending"
   ]
  },
  {
   "cell_type": "code",
   "execution_count": null,
   "id": "83359b5b-f45b-400e-bff0-de49efa5a3f7",
   "metadata": {},
   "outputs": [
    {
     "name": "stdout",
     "output_type": "stream",
     "text": [
      "Email sent successfully!\n"
     ]
    }
   ],
   "source": [
    "# Email details\n",
    "from_email = 'from_email@gmail.com'\n",
    "to_emails = ['to_email@gmail.com']\n",
    "subject = f\"Week {week} Bill/Mom Fantasy Wrap Up\"\n",
    "body = formatted_message\n",
    "# body = html_formatted_message\n",
    "\n",
    "# Set up the SMTP server\n",
    "smtp_server = \"smtp.gmail.com\"\n",
    "port = 587  # or 465 for SSL\n",
    "\n",
    "\n",
    "login = \"email.gmail.com\"  # your email login\n",
    "password = \"password\"  # your email password\n",
    "\n",
    "# Create the message\n",
    "msg = MIMEMultipart()\n",
    "msg['From'] = from_email\n",
    "msg['To'] = \", \".join(to_emails)  # join the list into a comma-separated string\n",
    "msg['Subject'] = subject\n",
    "\n",
    "# Attach the body text to the message\n",
    "msg.attach(MIMEText(body, 'html'))\n",
    "\n",
    "image_path = weekly_wins_filename\n",
    "\n",
    "# Attach the image\n",
    "with open(image_path, \"rb\") as img_file:\n",
    "    img = MIMEImage(img_file.read())\n",
    "    img.add_header(\"Content-ID\", \"<generated_image>\")\n",
    "    img.add_header(\"Content-Disposition\", \"inline\", filename=f\"WeeklyWinsPerTeam_Week{weekly_wins.week.max()}.png\")\n",
    "    msg.attach(img)\n",
    "\n",
    "# Send the email\n",
    "try:\n",
    "    server = smtplib.SMTP(smtp_server, port)\n",
    "    server.starttls()  # Upgrade the connection to secure\n",
    "    server.login(login, password)\n",
    "    text = msg.as_string()\n",
    "    server.sendmail(from_email, to_emails, text)\n",
    "    print(\"Email sent successfully!\")\n",
    "except Exception as e:\n",
    "    print(f\"Error: {e}\")\n",
    "finally:\n",
    "    server.quit()\n"
   ]
  },
  {
   "cell_type": "code",
   "execution_count": null,
   "id": "905129aa",
   "metadata": {},
   "outputs": [],
   "source": []
  },
  {
   "cell_type": "code",
   "execution_count": null,
   "id": "b0b2bfe9-2bfb-480e-90a6-5fffb166c4d2",
   "metadata": {},
   "outputs": [],
   "source": []
  }
 ],
 "metadata": {
  "kernelspec": {
   "display_name": "Python 3",
   "language": "python",
   "name": "python3"
  },
  "language_info": {
   "codemirror_mode": {
    "name": "ipython",
    "version": 3
   },
   "file_extension": ".py",
   "mimetype": "text/x-python",
   "name": "python",
   "nbconvert_exporter": "python",
   "pygments_lexer": "ipython3",
   "version": "3.9.12"
  }
 },
 "nbformat": 4,
 "nbformat_minor": 5
}
